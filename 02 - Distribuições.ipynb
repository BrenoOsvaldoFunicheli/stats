{
 "cells": [
  {
   "cell_type": "markdown",
   "id": "84498a6f-dacc-4f52-9f0a-f422163a362d",
   "metadata": {
    "tags": []
   },
   "source": [
    "# Distribuições Discretas"
   ]
  },
  {
   "cell_type": "markdown",
   "id": "b5cf5e6b-0a3f-4213-93b0-b14d83b55362",
   "metadata": {},
   "source": [
    "## Bernoulli"
   ]
  },
  {
   "cell_type": "markdown",
   "id": "f7d92dea-aac9-46ef-b990-77f2d6f3c653",
   "metadata": {},
   "source": [
    "##### Uma tentativa com dois resultados possíveis: sucesso (1) ou fracasso (0)."
   ]
  },
  {
   "cell_type": "code",
   "execution_count": 6,
   "id": "9c7b6dd4-6e0a-4a4a-816c-896d96fe061f",
   "metadata": {},
   "outputs": [],
   "source": [
    "from scipy.stats import bernoulli\n",
    "import numpy as np"
   ]
  },
  {
   "cell_type": "code",
   "execution_count": 7,
   "id": "3f29c83e-e870-4377-85db-eb3ab7a9d51c",
   "metadata": {},
   "outputs": [
    {
     "name": "stdout",
     "output_type": "stream",
     "text": [
      "Amostras: [0 0 0 0 0 0 0 0 1 1]\n",
      "P(X=1): 0.3\n",
      "P(X=0): 0.7000000000000002\n",
      "Média: 0.3\n",
      "Variância: 0.21\n"
     ]
    }
   ],
   "source": [
    "p = 0.3  # probabilidade de sucesso\n",
    "\n",
    "# Gerar 10 amostras\n",
    "samples = bernoulli.rvs(p, size=10)\n",
    "print(\"Amostras:\", samples)\n",
    "\n",
    "# PMF (função massa de probabilidade)\n",
    "print(\"P(X=1):\", bernoulli.pmf(1, p))\n",
    "print(\"P(X=0):\", bernoulli.pmf(0, p))\n",
    "\n",
    "# Esperança e variância\n",
    "print(\"Média:\", bernoulli.mean(p))\n",
    "print(\"Variância:\", bernoulli.var(p))"
   ]
  },
  {
   "cell_type": "markdown",
   "id": "0e3f507a-c2b9-4a69-898d-fa9a13923542",
   "metadata": {},
   "source": [
    "## Binomial"
   ]
  },
  {
   "cell_type": "markdown",
   "id": "b8924640-d1a4-4e39-8904-f0989de117e5",
   "metadata": {},
   "source": [
    "##### Conta o número de sucessos em n tentativas independentes."
   ]
  },
  {
   "cell_type": "code",
   "execution_count": null,
   "id": "adc5ba89-30d2-4f8d-a555-d9c84c4aa50d",
   "metadata": {},
   "outputs": [],
   "source": [
    "from scipy.stats import binom\n",
    "\n",
    "n, p = 10, 0.5  # 10 tentativas, p = 0.5\n",
    "\n",
    "# PMF: probabilidade de exatamente 4 sucessos\n",
    "print(\"P(X=4):\", binom.pmf(4, n, p))\n",
    "\n",
    "# CDF: probabilidade de até 4 sucessos\n",
    "print(\"P(X<=4):\", binom.cdf(4, n, p))\n",
    "\n",
    "# Amostragem\n",
    "samples = binom.rvs(n, p, size=10)\n",
    "print(\"Amostras:\", samples)\n",
    "\n",
    "# Média e variância\n",
    "print(\"Média:\", binom.mean(n, p))\n",
    "print(\"Variância:\", binom.var(n, p))\n"
   ]
  },
  {
   "cell_type": "markdown",
   "id": "c644053b-4b4e-4dd7-b97f-ffb7440c9823",
   "metadata": {},
   "source": [
    "## Geométrica"
   ]
  },
  {
   "cell_type": "markdown",
   "id": "90f384ff-82cb-43a5-9be3-d878608ae941",
   "metadata": {},
   "source": [
    "##### Conta o número de falhas antes do primeiro sucesso."
   ]
  },
  {
   "cell_type": "code",
   "execution_count": 10,
   "id": "58692cc9-8fdd-4617-8b98-e4d83bf84d0a",
   "metadata": {},
   "outputs": [
    {
     "name": "stdout",
     "output_type": "stream",
     "text": [
      "P(X=4): 0.10240000000000003\n",
      "Média: 5.0\n",
      "Variância: 20.0\n"
     ]
    }
   ],
   "source": [
    "from scipy.stats import geom\n",
    "\n",
    "p = 0.2\n",
    "\n",
    "# PMF: probabilidade de primeira ocorrência de sucesso após 4 tentativas\n",
    "print(\"P(X=4):\", geom.pmf(4, p))  # 3 falhas + 1 sucesso\n",
    "\n",
    "# Média e variância\n",
    "print(\"Média:\", geom.mean(p))\n",
    "print(\"Variância:\", geom.var(p))\n"
   ]
  },
  {
   "cell_type": "markdown",
   "id": "bc5d7261-ceb9-43ee-a95b-8aeedc361a78",
   "metadata": {},
   "source": [
    "## HyperGeométrica"
   ]
  },
  {
   "cell_type": "markdown",
   "id": "ab21a741-3d15-4c14-8d57-832de19c842a",
   "metadata": {},
   "source": [
    "##### Amostragem sem reposição."
   ]
  },
  {
   "cell_type": "code",
   "execution_count": 9,
   "id": "edec9be6-12a2-4d28-ad25-3aeafdf498fc",
   "metadata": {},
   "outputs": [
    {
     "name": "stdout",
     "output_type": "stream",
     "text": [
      "P(X=3): 0.09371507119310772\n",
      "Média: 4.9\n",
      "Variância: 1.3809090909090909\n"
     ]
    }
   ],
   "source": [
    "from scipy.stats import hypergeom\n",
    "\n",
    "# N = população, K = sucesso na população, n = tamanho da amostra\n",
    "N, K, n = 100, 70, 7\n",
    "\n",
    "# Probabilidade de exatamente 3 sucessos\n",
    "print(\"P(X=3):\", hypergeom.pmf(3, N, K, n))\n",
    "\n",
    "# Média e variância\n",
    "print(\"Média:\", hypergeom.mean(N, K, n))\n",
    "print(\"Variância:\", hypergeom.var(N, K, n))\n"
   ]
  },
  {
   "cell_type": "markdown",
   "id": "cd606cc0-9d67-48ec-a115-a278504d8e45",
   "metadata": {},
   "source": [
    "## Poisson"
   ]
  },
  {
   "cell_type": "markdown",
   "id": "3d4cfc26-f409-4aba-83b1-732c1d406e23",
   "metadata": {},
   "source": [
    "##### Modela o número de eventos por unidade de tempo/área."
   ]
  },
  {
   "cell_type": "code",
   "execution_count": 11,
   "id": "250fb704-335b-453b-8f6a-1f40d1f51125",
   "metadata": {},
   "outputs": [
    {
     "name": "stdout",
     "output_type": "stream",
     "text": [
      "P(X=2): 0.22404180765538775\n",
      "Média: 3.0\n",
      "Variância: 3.0\n"
     ]
    }
   ],
   "source": [
    "from scipy.stats import poisson\n",
    "\n",
    "λ = 3  # taxa média\n",
    "\n",
    "# PMF: probabilidade de exatamente 2 eventos\n",
    "print(\"P(X=2):\", poisson.pmf(2, λ))\n",
    "\n",
    "# Média e variância\n",
    "print(\"Média:\", poisson.mean(λ))\n",
    "print(\"Variância:\", poisson.var(λ))\n"
   ]
  },
  {
   "cell_type": "markdown",
   "id": "f19938cb-2f9f-42fe-a5cf-9be46f5f9e67",
   "metadata": {
    "jp-MarkdownHeadingCollapsed": true,
    "tags": []
   },
   "source": [
    "## Distribuição Binomial Negativa"
   ]
  },
  {
   "cell_type": "markdown",
   "id": "f15e7b73-50e8-4361-a898-090c439d20d9",
   "metadata": {},
   "source": [
    "##### Conta o número de falhas antes de alcançar r sucessos."
   ]
  },
  {
   "cell_type": "code",
   "execution_count": 31,
   "id": "36cc7a3d-42d6-407e-8fad-0d9c343689d0",
   "metadata": {},
   "outputs": [
    {
     "name": "stdout",
     "output_type": "stream",
     "text": [
      "P(X=11 falhas): 0.05002777906380801\n",
      "Amostras (falhas até o 4º sucesso): [16 24  3 16 23 10  6 29  8 10]\n",
      "Média: 16.0\n",
      "Variância: 79.99999999999999\n"
     ]
    }
   ],
   "source": [
    "from scipy.stats import nbinom\n",
    "\n",
    "r = 4       # número de sucessos desejados\n",
    "p = 0.2     # probabilidade de sucesso em cada tentativa\n",
    "\n",
    "# PMF: probabilidade de ocorrerem 11 falhas antes do 4º sucesso (ou seja, 15 tentativas no total)\n",
    "x = 11  # número de falhas\n",
    "print(\"P(X=11 falhas):\", nbinom.pmf(x, r, p))\n",
    "\n",
    "# Geração de amostras\n",
    "samples = nbinom.rvs(r, p, size=10)\n",
    "print(\"Amostras (falhas até o 4º sucesso):\", samples)\n",
    "\n",
    "# Esperança e variância\n",
    "print(\"Média:\", nbinom.mean(r, p))\n",
    "print(\"Variância:\", nbinom.var(r, p))\n"
   ]
  },
  {
   "cell_type": "markdown",
   "id": "25af1d39-3701-4350-83ae-0fc18d3a5339",
   "metadata": {},
   "source": [
    "## Multinomial"
   ]
  },
  {
   "cell_type": "markdown",
   "id": "fc54f420-cfef-46c2-9c59-4a7f538390d0",
   "metadata": {},
   "source": [
    "##### Geralização da binomial para mais de dois possíveis resultados por ensaio."
   ]
  },
  {
   "cell_type": "code",
   "execution_count": 30,
   "id": "c22cbf53-c07b-44ba-a21e-ffb6344262f4",
   "metadata": {},
   "outputs": [
    {
     "name": "stdout",
     "output_type": "stream",
     "text": [
      "P(x=2 para cada face): 0.003438285893918611\n",
      "Amostras:\n",
      " [[2 1 1 3 2 3]\n",
      " [3 2 2 2 3 0]\n",
      " [3 1 1 2 5 0]\n",
      " [4 5 0 2 1 0]\n",
      " [3 4 2 2 0 1]]\n"
     ]
    }
   ],
   "source": [
    "from scipy.stats import multinomial\n",
    "import numpy as np\n",
    "\n",
    "n = 12  # número total de experimentos\n",
    "p = [1/6]*6  # probabilidade para cada face de um dado\n",
    "\n",
    "# PMF: probabilidade de cada face sair exatamente 2 vezes\n",
    "x = [2]*6  # 2 vezes cada face\n",
    "prob = multinomial.pmf(x, n=n, p=p)\n",
    "print(\"P(x=2 para cada face):\", prob)\n",
    "\n",
    "# Amostras aleatórias\n",
    "samples = multinomial.rvs(n=n, p=p, size=5)\n",
    "print(\"Amostras:\\n\", samples)\n"
   ]
  },
  {
   "cell_type": "markdown",
   "id": "4c95a1c6-a7e1-48c3-9d55-363db2e70cfd",
   "metadata": {},
   "source": [
    "# Distribuições Contínuas"
   ]
  },
  {
   "cell_type": "markdown",
   "id": "64142556-8f8e-48b9-af1f-d1f45da854bb",
   "metadata": {},
   "source": [
    "## Uniforme"
   ]
  },
  {
   "cell_type": "markdown",
   "id": "a50cfe43-471a-4e26-90b1-169f9c88c4a6",
   "metadata": {},
   "source": [
    "##### Todos os valores dentro de um intervalo têm a mesma probabilidade."
   ]
  },
  {
   "cell_type": "code",
   "execution_count": 14,
   "id": "27e4cb44-d0f6-4ca5-b481-412b3d9fa3d7",
   "metadata": {},
   "outputs": [
    {
     "name": "stdout",
     "output_type": "stream",
     "text": [
      "f(5): 0.1\n",
      "F(5): 0.5\n",
      "Média: 5.0\n",
      "Variância: 8.333333333333332\n"
     ]
    }
   ],
   "source": [
    "from scipy.stats import uniform\n",
    "\n",
    "a, b = 0, 10  # intervalo [a, a + b]\n",
    "\n",
    "# PDF: densidade de probabilidade em x = 5\n",
    "print(\"f(5):\", uniform.pdf(5, loc=a, scale=b))\n",
    "\n",
    "# CDF: probabilidade acumulada até x = 5\n",
    "print(\"F(5):\", uniform.cdf(5, loc=a, scale=b))\n",
    "\n",
    "# Geração de amostras\n",
    "samples = uniform.rvs(loc=a, scale=b, size=1000)\n",
    "\n",
    "# Média e variância\n",
    "print(\"Média:\", uniform.mean(loc=a, scale=b))\n",
    "print(\"Variância:\", uniform.var(loc=a, scale=b))\n"
   ]
  },
  {
   "cell_type": "markdown",
   "id": "2ff104f6-dce3-4176-8e0a-8996d5f027fb",
   "metadata": {},
   "source": [
    "## Normal"
   ]
  },
  {
   "cell_type": "markdown",
   "id": "3ad34c2d-d41e-4483-89d1-e57a0d7b8953",
   "metadata": {},
   "source": [
    "##### A famosa “curva em sino”."
   ]
  },
  {
   "cell_type": "code",
   "execution_count": 17,
   "id": "8c54a97a-1a60-4d01-bb1f-5bf5e9ebc227",
   "metadata": {},
   "outputs": [
    {
     "name": "stdout",
     "output_type": "stream",
     "text": [
      "f(1): 0.24197072451914337\n",
      "F(1): 0.8413447460685429\n",
      "Média: 0.0\n",
      "Variância: 1.0\n"
     ]
    }
   ],
   "source": [
    "from scipy.stats import norm\n",
    "\n",
    "mu, sigma = 0, 1  # média e desvio padrão\n",
    "\n",
    "# PDF e CDF em x = 1\n",
    "print(\"f(1):\", norm.pdf(1, loc=mu, scale=sigma))\n",
    "print(\"F(1):\", norm.cdf(1, loc=mu, scale=sigma))\n",
    "\n",
    "# Amostras aleatórias\n",
    "samples = norm.rvs(loc=mu, scale=sigma, size=1000)\n",
    "\n",
    "# Média e variância\n",
    "print(\"Média:\", norm.mean(loc=mu, scale=sigma))\n",
    "print(\"Variância:\", norm.var(loc=mu, scale=sigma))\n"
   ]
  },
  {
   "cell_type": "markdown",
   "id": "a55cda5f-37a2-43cb-9b06-70e18b9b1f95",
   "metadata": {
    "jp-MarkdownHeadingCollapsed": true,
    "tags": []
   },
   "source": [
    "## Exponencial"
   ]
  },
  {
   "cell_type": "markdown",
   "id": "86710914-f82e-4658-b548-3a2d98e92e0d",
   "metadata": {},
   "source": [
    "##### Modela o tempo até um evento ocorrer."
   ]
  },
  {
   "cell_type": "code",
   "execution_count": 16,
   "id": "4a896cbe-433e-4210-b79d-04c1528eba0b",
   "metadata": {},
   "outputs": [
    {
     "name": "stdout",
     "output_type": "stream",
     "text": [
      "f(1): 0.2706705664732254\n",
      "F(1): 0.8646647167633873\n",
      "Média: 0.5\n",
      "Variância: 0.25\n"
     ]
    }
   ],
   "source": [
    "from scipy.stats import expon\n",
    "\n",
    "λ = 2  # taxa = 1/escala\n",
    "scale = 1 / λ\n",
    "\n",
    "# PDF e CDF em x = 1\n",
    "print(\"f(1):\", expon.pdf(1, scale=scale))\n",
    "print(\"F(1):\", expon.cdf(1, scale=scale))\n",
    "\n",
    "# Amostras\n",
    "samples = expon.rvs(scale=scale, size=1000)\n",
    "\n",
    "# Média e variância\n",
    "print(\"Média:\", expon.mean(scale=scale))\n",
    "print(\"Variância:\", expon.var(scale=scale))\n"
   ]
  },
  {
   "cell_type": "markdown",
   "id": "cc2e3b90-acd6-4562-9540-9387dcef8f18",
   "metadata": {},
   "source": [
    "# Exercícios"
   ]
  },
  {
   "cell_type": "code",
   "execution_count": 12,
   "id": "c671f228-644c-4f3d-91d7-d06dca3a0481",
   "metadata": {
    "tags": []
   },
   "outputs": [],
   "source": [
    "λ = 20  # taxa média"
   ]
  },
  {
   "cell_type": "code",
   "execution_count": 13,
   "id": "366d705d-e656-44ff-bdd5-0e8ec46ef792",
   "metadata": {},
   "outputs": [
    {
     "data": {
      "text/plain": [
       "0.04458764910826764"
      ]
     },
     "execution_count": 13,
     "metadata": {},
     "output_type": "execute_result"
    }
   ],
   "source": [
    "poisson.pmf(25,λ)"
   ]
  },
  {
   "cell_type": "markdown",
   "id": "c3cc26f2-6fec-4819-b881-f58311d60ca4",
   "metadata": {},
   "source": [
    "## Exercício normal"
   ]
  },
  {
   "cell_type": "code",
   "execution_count": 20,
   "id": "8af35acd-104e-4c3d-8151-b691b55d6ee4",
   "metadata": {},
   "outputs": [],
   "source": [
    "mu, sigma = 70, 5  # média e desvio padrão\n",
    "\n",
    "norm.cdf(85, loc=mu, scale=sigma)"
   ]
  },
  {
   "cell_type": "markdown",
   "id": "82793af1-7483-4f41-a8c9-a8d29b8d4e61",
   "metadata": {},
   "source": [
    "### Exercício 2"
   ]
  },
  {
   "cell_type": "markdown",
   "id": "2b0ac76c-8a21-4a99-981e-4f33d4feb6eb",
   "metadata": {},
   "source": [
    "O faturamento diário de um motorista de aplicativo segue uma distribuição aproximadamente normal, com média R$ 300,00 e desvio padrão igual a R$ 50,00. Obtenha as probabilidades de que, em um dia aleatório, o motorista ganhe:\n",
    "\n",
    "1) Entre R$ 250,00 e R$ 350,00\n",
    "\n",
    "2) Entre R$ 400,00 e R$ 500,00\n"
   ]
  },
  {
   "cell_type": "code",
   "execution_count": 27,
   "id": "1ee0e7fd-dcc4-480b-8201-f8f931198ae2",
   "metadata": {},
   "outputs": [],
   "source": [
    "mu, sigma = 300, 50  # média e desvio padrão\n",
    "\n",
    "lowp = norm.cdf(250, loc=mu, scale=sigma)\n",
    "higp = norm.cdf(350, loc=mu, scale=sigma)"
   ]
  },
  {
   "cell_type": "code",
   "execution_count": 29,
   "id": "feb78403-421e-4f3d-9866-b78302f31a26",
   "metadata": {},
   "outputs": [
    {
     "data": {
      "text/plain": [
       "0.6826894921370859"
      ]
     },
     "execution_count": 29,
     "metadata": {},
     "output_type": "execute_result"
    }
   ],
   "source": [
    "higp-lowp"
   ]
  },
  {
   "cell_type": "markdown",
   "id": "f7a86f95-8430-4b19-a4b8-45f04d6d0530",
   "metadata": {},
   "source": [
    "### Exercício 3"
   ]
  },
  {
   "cell_type": "markdown",
   "id": "f759eef8-54cf-463d-9599-ff314e935c89",
   "metadata": {},
   "source": [
    "O Inmetro verificou que as lâmpadas incandescentes da fabricante XPTO apresentam uma vida útil normalmente distribuída, com média igual a 720 dias e desvio padrão igual a 30 dias. Calcule a probabilidade de uma lâmpada, escolhida ao acaso, durar:\n",
    "\n",
    "1) Entre 650 e 750 dias\n",
    "\n",
    "2) Mais que 800 dias\n",
    "\n",
    "3) Menos que 700 dias"
   ]
  },
  {
   "cell_type": "code",
   "execution_count": 32,
   "id": "eb74e184-5716-4fcc-9043-50340526b015",
   "metadata": {},
   "outputs": [],
   "source": [
    "mu, sigma = 720, 30  # média e desvio padrão\n",
    "\n",
    "lowp = norm.cdf(650, loc=mu, scale=sigma)\n",
    "higp = norm.cdf(750, loc=mu, scale=sigma)"
   ]
  },
  {
   "cell_type": "markdown",
   "id": "d51a7286-a5bb-49dc-9bc3-1e9190fdb8cc",
   "metadata": {},
   "source": [
    "A"
   ]
  },
  {
   "cell_type": "code",
   "execution_count": 33,
   "id": "4f419493-d175-40c7-aac4-fb9a8c2c4bc9",
   "metadata": {},
   "outputs": [
    {
     "data": {
      "text/plain": [
       "0.8315294174398976"
      ]
     },
     "execution_count": 33,
     "metadata": {},
     "output_type": "execute_result"
    }
   ],
   "source": [
    "higp-lowp"
   ]
  },
  {
   "cell_type": "markdown",
   "id": "4cbb044d-c483-4230-8fdf-9a119787ffc8",
   "metadata": {},
   "source": [
    "B"
   ]
  },
  {
   "cell_type": "code",
   "execution_count": 34,
   "id": "8ec9eab9-e102-4877-a3d7-5b2bf6616a7f",
   "metadata": {},
   "outputs": [
    {
     "data": {
      "text/plain": [
       "0.0038303805675897365"
      ]
     },
     "execution_count": 34,
     "metadata": {},
     "output_type": "execute_result"
    }
   ],
   "source": [
    "norm.sf(800, loc=mu, scale=sigma)"
   ]
  },
  {
   "cell_type": "markdown",
   "id": "bcb01c62-a8e2-4789-94c1-9ed63a57a4d0",
   "metadata": {},
   "source": [
    "C"
   ]
  },
  {
   "cell_type": "code",
   "execution_count": 35,
   "id": "f8f1b59b-381a-4663-8378-0720aa237d2d",
   "metadata": {},
   "outputs": [
    {
     "data": {
      "text/plain": [
       "0.2524925375469229"
      ]
     },
     "execution_count": 35,
     "metadata": {},
     "output_type": "execute_result"
    }
   ],
   "source": [
    "norm.cdf(700, loc=mu, scale=sigma)"
   ]
  },
  {
   "cell_type": "markdown",
   "id": "07a779e8-5f92-4579-a89c-c56b2b293534",
   "metadata": {},
   "source": [
    "### Exercício 4"
   ]
  },
  {
   "cell_type": "markdown",
   "id": "4fc3e2d3-600e-4622-a86e-4807cbc27ab4",
   "metadata": {},
   "source": [
    "Utilizando a tabela padronizada, ou o ferramental disponibilizado pelo Python, encontre a área sob a curva normal para os valores de Z abaixo:\n",
    "\n",
    "1) Z < 1,96\n",
    "\n",
    "2) Z > 2,15\n",
    "\n",
    "3) Z < -0,78\n",
    "\n",
    "4) Z > 0,59\n"
   ]
  },
  {
   "cell_type": "markdown",
   "id": "eee045f7-a760-41f5-b6ee-9c815ffd39ab",
   "metadata": {},
   "source": [
    "NEsse caso como são valores normalizados podemos simplesmente usar o norm sem nenhum parâmetro, pois ele assumirá o valor da normal padronizada"
   ]
  },
  {
   "cell_type": "code",
   "execution_count": 37,
   "id": "6152fd45-9e5a-4bf2-8339-01620cab9bdd",
   "metadata": {},
   "outputs": [
    {
     "data": {
      "text/plain": [
       "0.024997895148220435"
      ]
     },
     "execution_count": 37,
     "metadata": {},
     "output_type": "execute_result"
    }
   ],
   "source": [
    "norm.sf(1.96)"
   ]
  },
  {
   "cell_type": "code",
   "execution_count": 39,
   "id": "9aceaec9-0a9d-45d5-addb-c835c4cf7f04",
   "metadata": {},
   "outputs": [
    {
     "data": {
      "text/plain": [
       "0.0157776073910905"
      ]
     },
     "execution_count": 39,
     "metadata": {},
     "output_type": "execute_result"
    }
   ],
   "source": [
    "norm.sf(2.15)"
   ]
  },
  {
   "cell_type": "code",
   "execution_count": 41,
   "id": "65a08cc5-3290-48c8-ac9d-dada50b5dc08",
   "metadata": {},
   "outputs": [
    {
     "data": {
      "text/plain": [
       "0.21769543758573312"
      ]
     },
     "execution_count": 41,
     "metadata": {},
     "output_type": "execute_result"
    }
   ],
   "source": [
    "norm.cdf(-0.78)"
   ]
  },
  {
   "cell_type": "code",
   "execution_count": 42,
   "id": "c6bcf6c8-c88e-4584-9265-86f11cd4e0a3",
   "metadata": {},
   "outputs": [
    {
     "data": {
      "text/plain": [
       "0.27759532475346493"
      ]
     },
     "execution_count": 42,
     "metadata": {},
     "output_type": "execute_result"
    }
   ],
   "source": [
    "norm.sf(0.59)"
   ]
  }
 ],
 "metadata": {
  "kernelspec": {
   "display_name": "Python 3 (ipykernel)",
   "language": "python",
   "name": "python3"
  },
  "language_info": {
   "codemirror_mode": {
    "name": "ipython",
    "version": 3
   },
   "file_extension": ".py",
   "mimetype": "text/x-python",
   "name": "python",
   "nbconvert_exporter": "python",
   "pygments_lexer": "ipython3",
   "version": "3.10.17"
  }
 },
 "nbformat": 4,
 "nbformat_minor": 5
}
