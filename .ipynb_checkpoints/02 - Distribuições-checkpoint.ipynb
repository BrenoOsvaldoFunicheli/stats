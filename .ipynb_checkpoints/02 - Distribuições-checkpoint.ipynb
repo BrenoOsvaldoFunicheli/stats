{
 "cells": [
  {
   "cell_type": "markdown",
   "id": "84498a6f-dacc-4f52-9f0a-f422163a362d",
   "metadata": {
    "tags": []
   },
   "source": [
    "# Distribuições Discretas"
   ]
  },
  {
   "cell_type": "markdown",
   "id": "b5cf5e6b-0a3f-4213-93b0-b14d83b55362",
   "metadata": {},
   "source": [
    "## Bernoulli"
   ]
  },
  {
   "cell_type": "markdown",
   "id": "f7d92dea-aac9-46ef-b990-77f2d6f3c653",
   "metadata": {},
   "source": [
    "##### Uma tentativa com dois resultados possíveis: sucesso (1) ou fracasso (0)."
   ]
  },
  {
   "cell_type": "code",
   "execution_count": 6,
   "id": "9c7b6dd4-6e0a-4a4a-816c-896d96fe061f",
   "metadata": {},
   "outputs": [],
   "source": [
    "from scipy.stats import bernoulli\n",
    "import numpy as np"
   ]
  },
  {
   "cell_type": "code",
   "execution_count": 7,
   "id": "3f29c83e-e870-4377-85db-eb3ab7a9d51c",
   "metadata": {},
   "outputs": [
    {
     "name": "stdout",
     "output_type": "stream",
     "text": [
      "Amostras: [0 0 0 0 0 0 0 0 1 1]\n",
      "P(X=1): 0.3\n",
      "P(X=0): 0.7000000000000002\n",
      "Média: 0.3\n",
      "Variância: 0.21\n"
     ]
    }
   ],
   "source": [
    "p = 0.3  # probabilidade de sucesso\n",
    "\n",
    "# Gerar 10 amostras\n",
    "samples = bernoulli.rvs(p, size=10)\n",
    "print(\"Amostras:\", samples)\n",
    "\n",
    "# PMF (função massa de probabilidade)\n",
    "print(\"P(X=1):\", bernoulli.pmf(1, p))\n",
    "print(\"P(X=0):\", bernoulli.pmf(0, p))\n",
    "\n",
    "# Esperança e variância\n",
    "print(\"Média:\", bernoulli.mean(p))\n",
    "print(\"Variância:\", bernoulli.var(p))"
   ]
  },
  {
   "cell_type": "markdown",
   "id": "0e3f507a-c2b9-4a69-898d-fa9a13923542",
   "metadata": {},
   "source": [
    "## Binomial"
   ]
  },
  {
   "cell_type": "markdown",
   "id": "b8924640-d1a4-4e39-8904-f0989de117e5",
   "metadata": {},
   "source": [
    "##### Conta o número de sucessos em n tentativas independentes."
   ]
  },
  {
   "cell_type": "code",
   "execution_count": null,
   "id": "adc5ba89-30d2-4f8d-a555-d9c84c4aa50d",
   "metadata": {},
   "outputs": [],
   "source": [
    "from scipy.stats import binom\n",
    "\n",
    "n, p = 10, 0.5  # 10 tentativas, p = 0.5\n",
    "\n",
    "# PMF: probabilidade de exatamente 4 sucessos\n",
    "print(\"P(X=4):\", binom.pmf(4, n, p))\n",
    "\n",
    "# CDF: probabilidade de até 4 sucessos\n",
    "print(\"P(X<=4):\", binom.cdf(4, n, p))\n",
    "\n",
    "# Amostragem\n",
    "samples = binom.rvs(n, p, size=10)\n",
    "print(\"Amostras:\", samples)\n",
    "\n",
    "# Média e variância\n",
    "print(\"Média:\", binom.mean(n, p))\n",
    "print(\"Variância:\", binom.var(n, p))\n"
   ]
  },
  {
   "cell_type": "markdown",
   "id": "c644053b-4b4e-4dd7-b97f-ffb7440c9823",
   "metadata": {},
   "source": [
    "## Geométrica"
   ]
  },
  {
   "cell_type": "markdown",
   "id": "90f384ff-82cb-43a5-9be3-d878608ae941",
   "metadata": {},
   "source": [
    "##### Conta o número de falhas antes do primeiro sucesso."
   ]
  },
  {
   "cell_type": "code",
   "execution_count": 10,
   "id": "58692cc9-8fdd-4617-8b98-e4d83bf84d0a",
   "metadata": {},
   "outputs": [
    {
     "name": "stdout",
     "output_type": "stream",
     "text": [
      "P(X=4): 0.10240000000000003\n",
      "Média: 5.0\n",
      "Variância: 20.0\n"
     ]
    }
   ],
   "source": [
    "from scipy.stats import geom\n",
    "\n",
    "p = 0.2\n",
    "\n",
    "# PMF: probabilidade de primeira ocorrência de sucesso após 4 tentativas\n",
    "print(\"P(X=4):\", geom.pmf(4, p))  # 3 falhas + 1 sucesso\n",
    "\n",
    "# Média e variância\n",
    "print(\"Média:\", geom.mean(p))\n",
    "print(\"Variância:\", geom.var(p))\n"
   ]
  },
  {
   "cell_type": "markdown",
   "id": "bc5d7261-ceb9-43ee-a95b-8aeedc361a78",
   "metadata": {},
   "source": [
    "## HyperGeométrica"
   ]
  },
  {
   "cell_type": "markdown",
   "id": "ab21a741-3d15-4c14-8d57-832de19c842a",
   "metadata": {},
   "source": [
    "##### Amostragem sem reposição."
   ]
  },
  {
   "cell_type": "code",
   "execution_count": 9,
   "id": "edec9be6-12a2-4d28-ad25-3aeafdf498fc",
   "metadata": {},
   "outputs": [
    {
     "name": "stdout",
     "output_type": "stream",
     "text": [
      "P(X=3): 0.09371507119310772\n",
      "Média: 4.9\n",
      "Variância: 1.3809090909090909\n"
     ]
    }
   ],
   "source": [
    "from scipy.stats import hypergeom\n",
    "\n",
    "# N = população, K = sucesso na população, n = tamanho da amostra\n",
    "N, K, n = 100, 70, 7\n",
    "\n",
    "# Probabilidade de exatamente 3 sucessos\n",
    "print(\"P(X=3):\", hypergeom.pmf(3, N, K, n))\n",
    "\n",
    "# Média e variância\n",
    "print(\"Média:\", hypergeom.mean(N, K, n))\n",
    "print(\"Variância:\", hypergeom.var(N, K, n))\n"
   ]
  },
  {
   "cell_type": "markdown",
   "id": "cd606cc0-9d67-48ec-a115-a278504d8e45",
   "metadata": {},
   "source": [
    "## Poisson"
   ]
  },
  {
   "cell_type": "markdown",
   "id": "3d4cfc26-f409-4aba-83b1-732c1d406e23",
   "metadata": {},
   "source": [
    "##### Modela o número de eventos por unidade de tempo/área."
   ]
  },
  {
   "cell_type": "code",
   "execution_count": 11,
   "id": "250fb704-335b-453b-8f6a-1f40d1f51125",
   "metadata": {},
   "outputs": [
    {
     "name": "stdout",
     "output_type": "stream",
     "text": [
      "P(X=2): 0.22404180765538775\n",
      "Média: 3.0\n",
      "Variância: 3.0\n"
     ]
    }
   ],
   "source": [
    "from scipy.stats import poisson\n",
    "\n",
    "λ = 3  # taxa média\n",
    "\n",
    "# PMF: probabilidade de exatamente 2 eventos\n",
    "print(\"P(X=2):\", poisson.pmf(2, λ))\n",
    "\n",
    "# Média e variância\n",
    "print(\"Média:\", poisson.mean(λ))\n",
    "print(\"Variância:\", poisson.var(λ))\n"
   ]
  },
  {
   "cell_type": "markdown",
   "id": "4c95a1c6-a7e1-48c3-9d55-363db2e70cfd",
   "metadata": {},
   "source": [
    "# Distribuições Contínuas"
   ]
  },
  {
   "cell_type": "markdown",
   "id": "64142556-8f8e-48b9-af1f-d1f45da854bb",
   "metadata": {},
   "source": [
    "## Uniforme"
   ]
  },
  {
   "cell_type": "markdown",
   "id": "a50cfe43-471a-4e26-90b1-169f9c88c4a6",
   "metadata": {},
   "source": [
    "##### Todos os valores dentro de um intervalo têm a mesma probabilidade."
   ]
  },
  {
   "cell_type": "code",
   "execution_count": 14,
   "id": "27e4cb44-d0f6-4ca5-b481-412b3d9fa3d7",
   "metadata": {},
   "outputs": [
    {
     "name": "stdout",
     "output_type": "stream",
     "text": [
      "f(5): 0.1\n",
      "F(5): 0.5\n",
      "Média: 5.0\n",
      "Variância: 8.333333333333332\n"
     ]
    }
   ],
   "source": [
    "from scipy.stats import uniform\n",
    "\n",
    "a, b = 0, 10  # intervalo [a, a + b]\n",
    "\n",
    "# PDF: densidade de probabilidade em x = 5\n",
    "print(\"f(5):\", uniform.pdf(5, loc=a, scale=b))\n",
    "\n",
    "# CDF: probabilidade acumulada até x = 5\n",
    "print(\"F(5):\", uniform.cdf(5, loc=a, scale=b))\n",
    "\n",
    "# Geração de amostras\n",
    "samples = uniform.rvs(loc=a, scale=b, size=1000)\n",
    "\n",
    "# Média e variância\n",
    "print(\"Média:\", uniform.mean(loc=a, scale=b))\n",
    "print(\"Variância:\", uniform.var(loc=a, scale=b))\n"
   ]
  },
  {
   "cell_type": "markdown",
   "id": "2ff104f6-dce3-4176-8e0a-8996d5f027fb",
   "metadata": {},
   "source": [
    "## Normal"
   ]
  },
  {
   "cell_type": "markdown",
   "id": "3ad34c2d-d41e-4483-89d1-e57a0d7b8953",
   "metadata": {},
   "source": [
    "##### A famosa “curva em sino”."
   ]
  },
  {
   "cell_type": "code",
   "execution_count": 17,
   "id": "8c54a97a-1a60-4d01-bb1f-5bf5e9ebc227",
   "metadata": {},
   "outputs": [
    {
     "name": "stdout",
     "output_type": "stream",
     "text": [
      "f(1): 0.24197072451914337\n",
      "F(1): 0.8413447460685429\n",
      "Média: 0.0\n",
      "Variância: 1.0\n"
     ]
    }
   ],
   "source": [
    "from scipy.stats import norm\n",
    "\n",
    "mu, sigma = 0, 1  # média e desvio padrão\n",
    "\n",
    "# PDF e CDF em x = 1\n",
    "print(\"f(1):\", norm.pdf(1, loc=mu, scale=sigma))\n",
    "print(\"F(1):\", norm.cdf(1, loc=mu, scale=sigma))\n",
    "\n",
    "# Amostras aleatórias\n",
    "samples = norm.rvs(loc=mu, scale=sigma, size=1000)\n",
    "\n",
    "# Média e variância\n",
    "print(\"Média:\", norm.mean(loc=mu, scale=sigma))\n",
    "print(\"Variância:\", norm.var(loc=mu, scale=sigma))\n"
   ]
  },
  {
   "cell_type": "markdown",
   "id": "a55cda5f-37a2-43cb-9b06-70e18b9b1f95",
   "metadata": {
    "jp-MarkdownHeadingCollapsed": true,
    "tags": []
   },
   "source": [
    "## Exponencial"
   ]
  },
  {
   "cell_type": "markdown",
   "id": "86710914-f82e-4658-b548-3a2d98e92e0d",
   "metadata": {},
   "source": [
    "##### Modela o tempo até um evento ocorrer."
   ]
  },
  {
   "cell_type": "code",
   "execution_count": 16,
   "id": "4a896cbe-433e-4210-b79d-04c1528eba0b",
   "metadata": {},
   "outputs": [
    {
     "name": "stdout",
     "output_type": "stream",
     "text": [
      "f(1): 0.2706705664732254\n",
      "F(1): 0.8646647167633873\n",
      "Média: 0.5\n",
      "Variância: 0.25\n"
     ]
    }
   ],
   "source": [
    "from scipy.stats import expon\n",
    "\n",
    "λ = 2  # taxa = 1/escala\n",
    "scale = 1 / λ\n",
    "\n",
    "# PDF e CDF em x = 1\n",
    "print(\"f(1):\", expon.pdf(1, scale=scale))\n",
    "print(\"F(1):\", expon.cdf(1, scale=scale))\n",
    "\n",
    "# Amostras\n",
    "samples = expon.rvs(scale=scale, size=1000)\n",
    "\n",
    "# Média e variância\n",
    "print(\"Média:\", expon.mean(scale=scale))\n",
    "print(\"Variância:\", expon.var(scale=scale))\n"
   ]
  },
  {
   "cell_type": "markdown",
   "id": "cc2e3b90-acd6-4562-9540-9387dcef8f18",
   "metadata": {},
   "source": [
    "# Exercícios"
   ]
  },
  {
   "cell_type": "code",
   "execution_count": 12,
   "id": "c671f228-644c-4f3d-91d7-d06dca3a0481",
   "metadata": {
    "tags": []
   },
   "outputs": [],
   "source": [
    "λ = 20  # taxa média"
   ]
  },
  {
   "cell_type": "code",
   "execution_count": 13,
   "id": "366d705d-e656-44ff-bdd5-0e8ec46ef792",
   "metadata": {},
   "outputs": [
    {
     "data": {
      "text/plain": [
       "0.04458764910826764"
      ]
     },
     "execution_count": 13,
     "metadata": {},
     "output_type": "execute_result"
    }
   ],
   "source": [
    "poisson.pmf(25,λ)"
   ]
  },
  {
   "cell_type": "markdown",
   "id": "c3cc26f2-6fec-4819-b881-f58311d60ca4",
   "metadata": {},
   "source": [
    "## Exercício normal"
   ]
  },
  {
   "cell_type": "code",
   "execution_count": null,
   "id": "e1a68cac-18ee-450b-8cbf-c38aa6cce0ab",
   "metadata": {},
   "outputs": [],
   "source": [
    "mu, sigma = 0, 1  # média e desvio padrão"
   ]
  },
  {
   "cell_type": "code",
   "execution_count": null,
   "id": "8467411f-aa89-4dec-aaf2-fc566e47fd8c",
   "metadata": {},
   "outputs": [],
   "source": [
    "norm."
   ]
  }
 ],
 "metadata": {
  "kernelspec": {
   "display_name": "Python 3 (ipykernel)",
   "language": "python",
   "name": "python3"
  },
  "language_info": {
   "codemirror_mode": {
    "name": "ipython",
    "version": 3
   },
   "file_extension": ".py",
   "mimetype": "text/x-python",
   "name": "python",
   "nbconvert_exporter": "python",
   "pygments_lexer": "ipython3",
   "version": "3.10.17"
  }
 },
 "nbformat": 4,
 "nbformat_minor": 5
}
